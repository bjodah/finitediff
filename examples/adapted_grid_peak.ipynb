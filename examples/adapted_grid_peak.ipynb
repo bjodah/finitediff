{
 "cells": [
  {
   "cell_type": "code",
   "execution_count": null,
   "metadata": {},
   "outputs": [],
   "source": [
    "import numpy as np\n",
    "import matplotlib.pyplot as plt\n",
    "from finitediff.grid import adapted_grid, plot_convergence\n",
    "from finitediff.grid.tests._common import g, g2\n",
    "%matplotlib inline"
   ]
  },
  {
   "cell_type": "code",
   "execution_count": null,
   "metadata": {},
   "outputs": [],
   "source": [
    "plot_convergence('grid_additions', [(32,), (32, 0, 0, 0), (32, 0, 0, 0, 0, 0, 0)], g,\n",
    "                 extremum_refinement='max')"
   ]
  },
  {
   "cell_type": "code",
   "execution_count": null,
   "metadata": {},
   "outputs": [],
   "source": [
    "plot_convergence('grid_additions', [(32,), (16, 16), (8, 8, 8, 8)], g,\n",
    "                 extremum_refinement=(np.argmax, 2, lambda y, i: True))"
   ]
  },
  {
   "cell_type": "code",
   "execution_count": null,
   "metadata": {},
   "outputs": [],
   "source": [
    "plot_convergence('grid_additions', [(32,), (32, 0), (32, 0, 0)], g,\n",
    "                 extremum_refinement=(np.argmax, 4, lambda y, i: True))"
   ]
  },
  {
   "cell_type": "code",
   "execution_count": null,
   "metadata": {},
   "outputs": [],
   "source": [
    "plot_convergence('extremum_refinement', [(np.argmax, n, lambda y, i: True) for n in (0, 1, 2, 4, 8)], g,\n",
    "                 grid_additions=(8, 8, 8, 8))"
   ]
  },
  {
   "cell_type": "code",
   "execution_count": null,
   "metadata": {},
   "outputs": [],
   "source": [
    "def predicate(y, i):\n",
    "    pred = np.all([v*1.2 < y[i] for j, v in enumerate(y) if j != i])\n",
    "    print(pred)\n",
    "    return pred\n",
    "extremum_refiners = [(np.argmax, n, predicate) for n in (0, 1, 2, 4, 8)]\n",
    "plot_convergence('extremum_refinement', extremum_refiners, g, grid_additions=(8, 0, 0, 0))"
   ]
  },
  {
   "cell_type": "code",
   "execution_count": null,
   "metadata": {},
   "outputs": [],
   "source": [
    "plot_convergence('extremum_refinement', extremum_refiners, g, grid_additions=(16, 0, 0, 0))"
   ]
  },
  {
   "cell_type": "code",
   "execution_count": null,
   "metadata": {},
   "outputs": [],
   "source": [
    "plot_convergence('extremum_refinement', extremum_refiners, g, grid_additions=(32, 0, 0, 0))"
   ]
  },
  {
   "cell_type": "code",
   "execution_count": null,
   "metadata": {},
   "outputs": [],
   "source": [
    "def predicate2(y, i):\n",
    "    ok = True\n",
    "    if i > 0:\n",
    "        ok = ok and y[i - 1] < y[i]*0.7\n",
    "    if i < y.size - 1:\n",
    "        ok = ok and y[i + 1] < y[i]*0.7\n",
    "    print(ok)\n",
    "    return ok\n",
    "\n",
    "extremum_refiners2 = [(np.argmax, n, predicate2) for n in (0, 1, 2, 4, 8)]\n",
    "plot_convergence('extremum_refinement', extremum_refiners2, g, grid_additions=(16, 0, 0, 0))"
   ]
  }
 ],
 "metadata": {
  "kernelspec": {
   "display_name": "Python 3",
   "language": "python",
   "name": "python3"
  },
  "language_info": {
   "codemirror_mode": {
    "name": "ipython",
    "version": 3
   },
   "file_extension": ".py",
   "mimetype": "text/x-python",
   "name": "python",
   "nbconvert_exporter": "python",
   "pygments_lexer": "ipython3",
   "version": "3.6.1"
  }
 },
 "nbformat": 4,
 "nbformat_minor": 1
}
