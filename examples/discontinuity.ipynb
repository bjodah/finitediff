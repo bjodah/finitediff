{
 "cells": [
  {
   "cell_type": "code",
   "execution_count": null,
   "metadata": {},
   "outputs": [],
   "source": [
    "import math\n",
    "import numpy as np\n",
    "import matplotlib.pyplot as plt\n",
    "from finitediff.grid import locate_discontinuity, pool_discontinuity_approx, adapted_grid, plot_convergence\n",
    "%matplotlib inline"
   ]
  },
  {
   "cell_type": "code",
   "execution_count": null,
   "metadata": {},
   "outputs": [],
   "source": [
    "n = 50\n",
    "x = np.linspace(0, 10, n*2)\n",
    "y = np.empty_like(x)\n",
    "y[:n] = np.exp(-x[:n])\n",
    "y[n:] = np.exp(-(x[n:]-x[n]))\n",
    "print(x[n])"
   ]
  },
  {
   "cell_type": "code",
   "execution_count": null,
   "metadata": {},
   "outputs": [],
   "source": [
    "def plot_discont(x, y, ref, n=None, dn=7, consider=5):\n",
    "    loc_res = locate_discontinuity(x, y, consider)\n",
    "    avg, s = pool_discontinuity_approx(loc_res)\n",
    "    fig, axes = plt.subplots(1, 2, figsize=(14, 4))\n",
    "    for ax in axes:\n",
    "        ax.axvline(ref, color='k', linestyle='-')\n",
    "        ax.axvline(avg, color='r', linestyle=':')\n",
    "        ax.axvline(avg-s, color='g', linestyle='--')\n",
    "        ax.axvline(avg+s, color='g', linestyle='--')\n",
    "    x, y = map(lambda a: np.asarray(a, dtype=np.float64), [x, y])\n",
    "    axes[0].plot(x, y)\n",
    "    if n is None:\n",
    "        n = np.argmin(np.abs(x - ref))\n",
    "    axes[1].plot(x[n-dn:n+dn], y[n-dn:n+dn])\n",
    "    return avg, s"
   ]
  },
  {
   "cell_type": "code",
   "execution_count": null,
   "metadata": {},
   "outputs": [],
   "source": [
    "plot_discont(x, y, x[n])"
   ]
  },
  {
   "cell_type": "code",
   "execution_count": null,
   "metadata": {},
   "outputs": [],
   "source": [
    "f = np.vectorize(lambda t: math.exp(-t) if t < 5 else math.exp(5-t))\n",
    "plt.plot(x, f(x))"
   ]
  },
  {
   "cell_type": "code",
   "execution_count": null,
   "metadata": {},
   "outputs": [],
   "source": [
    "g, v = adapted_grid(0, 10, f, grid_additions=(8,)*4)"
   ]
  },
  {
   "cell_type": "code",
   "execution_count": null,
   "metadata": {},
   "outputs": [],
   "source": [
    "plot_convergence(None, [None], f, grid_additions=(8,)*8, xstart=0, xstop=10)"
   ]
  },
  {
   "cell_type": "code",
   "execution_count": null,
   "metadata": {},
   "outputs": [],
   "source": [
    "plot_discont(g, v, x[n], n)"
   ]
  },
  {
   "cell_type": "code",
   "execution_count": null,
   "metadata": {},
   "outputs": [],
   "source": [
    "f2 = np.vectorize(lambda t: (math.exp(-t) + (.2 if int(round(t*1234567)) % 3 == 0 else 0)) if t < 5 else 0.5*math.exp(5-t))\n",
    "plot_convergence(None, [None], f2, grid_additions=(16,)*8, xstart=0, xstop=10)"
   ]
  },
  {
   "cell_type": "code",
   "execution_count": null,
   "metadata": {},
   "outputs": [],
   "source": [
    "plot_convergence(None, [None], f2, grid_additions=(16,)*8, xstart=0, xstop=10, snr=True)"
   ]
  },
  {
   "cell_type": "code",
   "execution_count": null,
   "metadata": {},
   "outputs": [],
   "source": [
    "plot_discont(*adapted_grid(0, 10, f2, grid_additions=(22,)*12, snr=True), ref=5, consider=5)"
   ]
  },
  {
   "cell_type": "code",
   "execution_count": null,
   "metadata": {},
   "outputs": [],
   "source": [
    "pool_discontinuity_approx(locate_discontinuity(*adapted_grid(0, 10, f2, grid_additions=(16,)*8, snr=True), consider=5))"
   ]
  }
 ],
 "metadata": {
  "kernelspec": {
   "display_name": "Python 3",
   "language": "python",
   "name": "python3"
  },
  "language_info": {
   "codemirror_mode": {
    "name": "ipython",
    "version": 3
   },
   "file_extension": ".py",
   "mimetype": "text/x-python",
   "name": "python",
   "nbconvert_exporter": "python",
   "pygments_lexer": "ipython3",
   "version": "3.6.1"
  }
 },
 "nbformat": 4,
 "nbformat_minor": 2
}
