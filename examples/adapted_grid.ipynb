{
 "cells": [
  {
   "cell_type": "code",
   "execution_count": null,
   "metadata": {},
   "outputs": [],
   "source": [
    "import numpy as np\n",
    "import matplotlib.pyplot as plt\n",
    "from finitediff.grid import adapted_grid, plot_convergence\n",
    "from finitediff.grid.tests._common import g, g2\n",
    "%matplotlib inline"
   ]
  },
  {
   "cell_type": "code",
   "execution_count": null,
   "metadata": {},
   "outputs": [],
   "source": [
    "plot_convergence('grid_additions', [(32,), (16, 16), (8, 8, 8, 8)], g)"
   ]
  },
  {
   "cell_type": "code",
   "execution_count": null,
   "metadata": {},
   "outputs": [],
   "source": [
    "plot_convergence('grid_additions', [(64,), (32, 32), (48, 12, 4)], g)"
   ]
  },
  {
   "cell_type": "code",
   "execution_count": null,
   "metadata": {},
   "outputs": [],
   "source": [
    "blr = ((.3, .1), (.3, .1))\n",
    "plot_convergence('grid_additions', [(64,), (32, 32), (48, 12, 4)], g, blurs=blr)"
   ]
  },
  {
   "cell_type": "code",
   "execution_count": null,
   "metadata": {},
   "outputs": [],
   "source": [
    "plot_convergence('grid_additions', [(64,), (32, 32), (32, 24, 4, 4)], g, blurs=blr)"
   ]
  },
  {
   "cell_type": "code",
   "execution_count": null,
   "metadata": {},
   "outputs": [],
   "source": [
    "plot_convergence('grid_additions', [(32,)*2, (16,)*4, (8,)*8], g, blurs=blr)"
   ]
  },
  {
   "cell_type": "code",
   "execution_count": null,
   "metadata": {},
   "outputs": [],
   "source": [
    "plot_convergence('grid_additions', [(32,), (16,)*2, (8,)*4, (4,)*8], g, blurs=blr)"
   ]
  },
  {
   "cell_type": "code",
   "execution_count": null,
   "metadata": {},
   "outputs": [],
   "source": [
    "plot_convergence('grid_additions', [(48,), (24,)*2, (12,)*4, (16,)*3], g)"
   ]
  },
  {
   "cell_type": "code",
   "execution_count": null,
   "metadata": {},
   "outputs": [],
   "source": []
  },
  {
   "cell_type": "code",
   "execution_count": null,
   "metadata": {},
   "outputs": [],
   "source": [
    "plot_convergence('grid_additions', [(32,), (16,)*2, (8,)*4, (4,)*8], g2)"
   ]
  },
  {
   "cell_type": "code",
   "execution_count": null,
   "metadata": {},
   "outputs": [],
   "source": [
    "plot_convergence('grid_additions', [(32,), (16,)*2, (8,)*4, (4,)*8], g2, ntrail=3)"
   ]
  },
  {
   "cell_type": "code",
   "execution_count": null,
   "metadata": {},
   "outputs": [],
   "source": [
    "plot_convergence('grid_additions', [(32, 32), (16,)*4], g2)"
   ]
  },
  {
   "cell_type": "code",
   "execution_count": null,
   "metadata": {},
   "outputs": [],
   "source": [
    "plot_convergence('grid_additions', [(32, 32), (16,)*4], g2, ntrail=3, blurs=blr)"
   ]
  },
  {
   "cell_type": "code",
   "execution_count": null,
   "metadata": {},
   "outputs": [],
   "source": [
    "plot_convergence('grid_additions', [(64,)*2, (16,)*8], g2, ntrail=3, blurs=blr)"
   ]
  },
  {
   "cell_type": "code",
   "execution_count": null,
   "metadata": {},
   "outputs": [],
   "source": [
    "def gs(x):\n",
    "    return [(a, b) for a, b in zip(g(x), g2(x))]\n",
    "plot_convergence('grid_additions', [(64,)*2, (16,)*8], gs, ntrail=3, blurs=blr,\n",
    "                 metric=lambda x: x[0]+x[1])"
   ]
  },
  {
   "cell_type": "code",
   "execution_count": null,
   "metadata": {},
   "outputs": [],
   "source": [
    "plot_convergence('ntrail', [2, 3, 4], g)"
   ]
  },
  {
   "cell_type": "code",
   "execution_count": null,
   "metadata": {},
   "outputs": [],
   "source": [
    "plot_convergence('blurs', [((.5,), (.5,)), ((.5, .25), (.5, .25)), ((.125,), (.125,))], g)"
   ]
  },
  {
   "cell_type": "code",
   "execution_count": null,
   "metadata": {},
   "outputs": [],
   "source": [
    "plot_convergence('blurs', [((.5,), (.5,)), ((.5, .25), (.5, .25)), ((.125,), (.125,))],\n",
    "                 g, ntrail=4)"
   ]
  },
  {
   "cell_type": "markdown",
   "metadata": {
    "collapsed": true
   },
   "source": [
    "## Grid refinement"
   ]
  },
  {
   "cell_type": "code",
   "execution_count": null,
   "metadata": {},
   "outputs": [],
   "source": [
    "from scipy.interpolate import BPoly\n",
    "from finitediff.grid import refine_grid\n",
    "\n",
    "knot_arrays = [[0, 1, 2, 3, 7, 15], [0, 2.5, 5, 10, 11, 12, 13, 14, 15]]\n",
    "knot_values = [[0., 0, 1, 1, 0, 0], [0., 0, 1, 1, 0, 0, 1, 1, 0]]\n",
    "bpolys = []\n",
    "for x, y in zip(knot_arrays, knot_values):\n",
    "    bpolys.append(BPoly.from_derivatives(x, list(zip(y, *([np.zeros(len(y))]*2)))))\n",
    "    \n",
    "def plot_interpol(polys, ax, xplt=None):\n",
    "    if xplt is None:\n",
    "        xplt = np.linspace(0, 15, 500)\n",
    "    for p in polys:\n",
    "        ax.plot(xplt, p(xplt))\n",
    "    for xx in knot_arrays:\n",
    "        ax.vlines(xx, .1, .4, transform=ax.get_xaxis_transform(), color='k', linestyle='--', linewidth=0.5)"
   ]
  },
  {
   "cell_type": "code",
   "execution_count": null,
   "metadata": {},
   "outputs": [],
   "source": [
    "grid = np.linspace(0, 15, 160)\n",
    "for bp in bpolys:\n",
    "    grid, err = refine_grid(grid, bp, grid_additions=[80]*2)\n",
    "fig, ax = plt.subplots(1, 1, figsize=(16, 4))\n",
    "plot_interpol(bpolys, ax, grid)\n",
    "ax.vlines(grid, .6, .9, transform=ax.get_xaxis_transform(), lw=.5, alpha=.5, linestyle=':')"
   ]
  },
  {
   "cell_type": "markdown",
   "metadata": {},
   "source": [
    "## Rebalancing grid"
   ]
  },
  {
   "cell_type": "code",
   "execution_count": null,
   "metadata": {},
   "outputs": [],
   "source": [
    "from finitediff.grid import rebalanced_grid"
   ]
  },
  {
   "cell_type": "code",
   "execution_count": null,
   "metadata": {},
   "outputs": [],
   "source": []
  }
 ],
 "metadata": {
  "kernelspec": {
   "display_name": "Python 3",
   "language": "python",
   "name": "python3"
  },
  "language_info": {
   "codemirror_mode": {
    "name": "ipython",
    "version": 3
   },
   "file_extension": ".py",
   "mimetype": "text/x-python",
   "name": "python",
   "nbconvert_exporter": "python",
   "pygments_lexer": "ipython3",
   "version": "3.6.1"
  }
 },
 "nbformat": 4,
 "nbformat_minor": 1
}
