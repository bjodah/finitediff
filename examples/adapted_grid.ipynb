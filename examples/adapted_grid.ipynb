{
 "cells": [
  {
   "cell_type": "code",
   "execution_count": null,
   "metadata": {
    "collapsed": false
   },
   "outputs": [],
   "source": [
    "import numpy as np\n",
    "import matplotlib.pyplot as plt\n",
    "from finitediff.grid import adapted_grid\n",
    "from finitediff.tests.test_grid import g\n",
    "%matplotlib inline"
   ]
  },
  {
   "cell_type": "code",
   "execution_count": null,
   "metadata": {
    "collapsed": true
   },
   "outputs": [],
   "source": [
    "def plot_convergence(grid_additions, cb, **kwargs):\n",
    "    fig, axes = plt.subplots(1, len(grid_additions), figsize=(16, 5),\n",
    "                             sharey=True, gridspec_kw={'wspace': 0})\n",
    "    scores = []\n",
    "    for ga, ax in zip(grid_additions, np.atleast_1d(axes)):\n",
    "        grid, y = adapted_grid(0, 2, cb, ga, **kwargs)\n",
    "        ax.vlines(grid, 0, 1, transform=ax.get_xaxis_transform(),\n",
    "                  linestyle='--', color='k', alpha=.3, linewidth=.5)\n",
    "        ax.plot(grid, cb(grid))\n",
    "        between_x = grid[:-1] + np.diff(grid)/2\n",
    "        between_y = y[:-1] + np.diff(y)/2\n",
    "        scores.append(np.sum(np.abs(between_y - cb(between_x))))\n",
    "    return np.array(scores)"
   ]
  },
  {
   "cell_type": "code",
   "execution_count": null,
   "metadata": {
    "collapsed": false
   },
   "outputs": [],
   "source": [
    "plot_convergence([(32,), (16, 16), (8, 8, 8, 8)], g)"
   ]
  },
  {
   "cell_type": "code",
   "execution_count": null,
   "metadata": {
    "collapsed": false
   },
   "outputs": [],
   "source": [
    "plot_convergence([(64,), (32, 32), (48, 12, 4)], g)"
   ]
  },
  {
   "cell_type": "code",
   "execution_count": null,
   "metadata": {
    "collapsed": false
   },
   "outputs": [],
   "source": [
    "blr = ((.3, .1), (.3, .1))\n",
    "plot_convergence([(64,), (32, 32), (48, 12, 4)], g, blurs=blr)"
   ]
  },
  {
   "cell_type": "code",
   "execution_count": null,
   "metadata": {
    "collapsed": false
   },
   "outputs": [],
   "source": [
    "plot_convergence([(64,), (32, 32), (32, 24, 4, 4)], g, blurs=blr)"
   ]
  },
  {
   "cell_type": "code",
   "execution_count": null,
   "metadata": {
    "collapsed": false
   },
   "outputs": [],
   "source": [
    "plot_convergence([(32,)*2, (16,)*4, (8,)*8], g, blurs=blr)"
   ]
  },
  {
   "cell_type": "code",
   "execution_count": null,
   "metadata": {
    "collapsed": false
   },
   "outputs": [],
   "source": [
    "plot_convergence([(32,), (16,)*2, (8,)*4, (4,)*8], g, blurs=blr)"
   ]
  },
  {
   "cell_type": "code",
   "execution_count": null,
   "metadata": {
    "collapsed": false
   },
   "outputs": [],
   "source": [
    "plot_convergence([(48,), (24,)*2, (12,)*4, (16,)*3], g)"
   ]
  },
  {
   "cell_type": "code",
   "execution_count": null,
   "metadata": {
    "collapsed": true
   },
   "outputs": [],
   "source": []
  },
  {
   "cell_type": "code",
   "execution_count": null,
   "metadata": {
    "collapsed": true
   },
   "outputs": [],
   "source": []
  },
  {
   "cell_type": "code",
   "execution_count": null,
   "metadata": {
    "collapsed": true
   },
   "outputs": [],
   "source": []
  },
  {
   "cell_type": "code",
   "execution_count": null,
   "metadata": {
    "collapsed": true
   },
   "outputs": [],
   "source": []
  }
 ],
 "metadata": {
  "kernelspec": {
   "display_name": "Python 3",
   "language": "python",
   "name": "python3"
  },
  "language_info": {
   "codemirror_mode": {
    "name": "ipython",
    "version": 3
   },
   "file_extension": ".py",
   "mimetype": "text/x-python",
   "name": "python",
   "nbconvert_exporter": "python",
   "pygments_lexer": "ipython3",
   "version": "3.5.2"
  }
 },
 "nbformat": 4,
 "nbformat_minor": 1
}
