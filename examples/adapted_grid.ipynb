{
 "cells": [
  {
   "cell_type": "code",
   "execution_count": null,
   "metadata": {},
   "outputs": [],
   "source": [
    "import numpy as np\n",
    "import matplotlib.pyplot as plt\n",
    "from finitediff.grid import adapted_grid, plot_convergence\n",
    "from finitediff.grid.tests._common import g, g2\n",
    "%matplotlib inline"
   ]
  },
  {
   "cell_type": "code",
   "execution_count": null,
   "metadata": {},
   "outputs": [],
   "source": [
    "plot_convergence('grid_additions', [(32,), (16, 16), (8, 8, 8, 8)], g)"
   ]
  },
  {
   "cell_type": "code",
   "execution_count": null,
   "metadata": {},
   "outputs": [],
   "source": [
    "plot_convergence('grid_additions', [(64,), (32, 32), (48, 12, 4)], g)"
   ]
  },
  {
   "cell_type": "code",
   "execution_count": null,
   "metadata": {},
   "outputs": [],
   "source": [
    "blr = ((.3, .1), (.3, .1))\n",
    "plot_convergence('grid_additions', [(64,), (32, 32), (48, 12, 4)], g, blurs=blr)"
   ]
  },
  {
   "cell_type": "code",
   "execution_count": null,
   "metadata": {},
   "outputs": [],
   "source": [
    "plot_convergence('grid_additions', [(64,), (32, 32), (32, 24, 4, 4)], g, blurs=blr)"
   ]
  },
  {
   "cell_type": "code",
   "execution_count": null,
   "metadata": {},
   "outputs": [],
   "source": [
    "plot_convergence('grid_additions', [(32,)*2, (16,)*4, (8,)*8], g, blurs=blr)"
   ]
  },
  {
   "cell_type": "code",
   "execution_count": null,
   "metadata": {},
   "outputs": [],
   "source": [
    "plot_convergence('grid_additions', [(32,), (16,)*2, (8,)*4, (4,)*8], g, blurs=blr)"
   ]
  },
  {
   "cell_type": "code",
   "execution_count": null,
   "metadata": {},
   "outputs": [],
   "source": [
    "plot_convergence('grid_additions', [(48,), (24,)*2, (12,)*4, (16,)*3], g)"
   ]
  },
  {
   "cell_type": "code",
   "execution_count": null,
   "metadata": {},
   "outputs": [],
   "source": []
  },
  {
   "cell_type": "code",
   "execution_count": null,
   "metadata": {},
   "outputs": [],
   "source": [
    "plot_convergence('grid_additions', [(32,), (16,)*2, (8,)*4, (4,)*8], g2)"
   ]
  },
  {
   "cell_type": "code",
   "execution_count": null,
   "metadata": {},
   "outputs": [],
   "source": [
    "plot_convergence('grid_additions', [(32,), (16,)*2, (8,)*4, (4,)*8], g2, ntrail=3)"
   ]
  },
  {
   "cell_type": "code",
   "execution_count": null,
   "metadata": {},
   "outputs": [],
   "source": [
    "plot_convergence('grid_additions', [(32, 32), (16,)*4], g2)"
   ]
  },
  {
   "cell_type": "code",
   "execution_count": null,
   "metadata": {},
   "outputs": [],
   "source": [
    "plot_convergence('grid_additions', [(32, 32), (16,)*4], g2, ntrail=3, blurs=blr)"
   ]
  },
  {
   "cell_type": "code",
   "execution_count": null,
   "metadata": {},
   "outputs": [],
   "source": [
    "plot_convergence('grid_additions', [(64,)*2, (16,)*8], g2, ntrail=3, blurs=blr)"
   ]
  },
  {
   "cell_type": "code",
   "execution_count": null,
   "metadata": {},
   "outputs": [],
   "source": [
    "def gs(x):\n",
    "    return [(a, b) for a, b in zip(g(x), g2(x))]\n",
    "plot_convergence('grid_additions', [(64,)*2, (16,)*8], gs, ntrail=3, blurs=blr,\n",
    "                 metric=lambda x: x[0]+x[1])"
   ]
  },
  {
   "cell_type": "code",
   "execution_count": null,
   "metadata": {},
   "outputs": [],
   "source": [
    "plot_convergence('ntrail', [2, 3, 4], g)"
   ]
  },
  {
   "cell_type": "code",
   "execution_count": null,
   "metadata": {},
   "outputs": [],
   "source": [
    "plot_convergence('blurs', [((.5,), (.5,)), ((.5, .25), (.5, .25)), ((.125,), (.125,))], g)"
   ]
  },
  {
   "cell_type": "code",
   "execution_count": null,
   "metadata": {},
   "outputs": [],
   "source": [
    "plot_convergence('blurs', [((.5,), (.5,)), ((.5, .25), (.5, .25)), ((.125,), (.125,))],\n",
    "                 g, ntrail=4)"
   ]
  },
  {
   "cell_type": "markdown",
   "metadata": {
    "collapsed": true
   },
   "source": [
    "## Grid refinement"
   ]
  },
  {
   "cell_type": "code",
   "execution_count": null,
   "metadata": {},
   "outputs": [],
   "source": [
    "from scipy.interpolate import BPoly\n",
    "from finitediff.grid import refine_grid\n",
    "\n",
    "knot_arrays = [[0, 1, 2, 3, 7, 15], [0, 2.5, 5, 10, 11, 12, 13, 14, 15]]\n",
    "knot_values = [[0., 0, 1, 1, 0, 0], [0., 0, 1, 1, 0, 0, 1, 1, 0]]\n",
    "bpolys = []\n",
    "for x, y in zip(knot_arrays, knot_values):\n",
    "    bpolys.append(BPoly.from_derivatives(x, list(zip(y, *([np.zeros(len(y))]*2)))))\n",
    "    \n",
    "def plot_interpol(polys, xplt=None, ax=None):\n",
    "    if ax is None:\n",
    "        fig, ax = plt.subplots(1, 1, figsize=(16, 4))\n",
    "    if xplt is None:\n",
    "        xplt = np.linspace(0, 15, 500)\n",
    "    for p in polys:\n",
    "        ax.plot(xplt, p(xplt))\n",
    "    for xx in knot_arrays:\n",
    "        ax.vlines(xx, .1, .4, transform=ax.get_xaxis_transform(), color='k', linestyle='--', linewidth=0.5)\n",
    "    ax.vlines(xplt, .6, .9, transform=ax.get_xaxis_transform(), lw=.5, alpha=.5, linestyle=':')\n",
    "    return ax"
   ]
  },
  {
   "cell_type": "code",
   "execution_count": null,
   "metadata": {},
   "outputs": [],
   "source": [
    "def demo_refine(cbs, ax=None, **kwargs):\n",
    "    grid = np.linspace(0, 15, 160)\n",
    "    for cb in cbs:\n",
    "        grid, err = refine_grid(grid, cb, **kwargs)\n",
    "    return grid, plot_interpol(bpolys, grid, ax=ax)"
   ]
  },
  {
   "cell_type": "code",
   "execution_count": null,
   "metadata": {},
   "outputs": [],
   "source": [
    "fig, axes = plt.subplots(8, 1, figsize=(16, 32))\n",
    "demo_refine(bpolys, grid_additions=[80]*2, ax=axes[0])\n",
    "demo_refine(bpolys, grid_additions=[60]*3, ax=axes[1])\n",
    "demo_refine(bpolys, grid_additions=[160], ax=axes[2])\n",
    "demo_refine(bpolys[::-1], grid_additions=[80]*2, ax=axes[3])\n",
    "demo_refine(bpolys, grid_additions=[80]*2, blurs=[(.5,)]*2, ax=axes[4])\n",
    "demo_refine(bpolys, grid_additions=[80]*2, blurs=[(.5, .25, .125)]*2, ax=axes[5])\n",
    "demo_refine(bpolys, grid_additions=[80]*2, ntrail=3, ax=axes[6])\n",
    "grid, ax = demo_refine(bpolys + bpolys[::-1], grid_additions=[80], ntrail=3, ax=axes[7])"
   ]
  },
  {
   "cell_type": "markdown",
   "metadata": {},
   "source": [
    "## Grid pruning"
   ]
  },
  {
   "cell_type": "code",
   "execution_count": null,
   "metadata": {},
   "outputs": [],
   "source": [
    "from finitediff.grid import grid_pruning_mask, grid_error\n",
    "pruning_mask = grid_pruning_mask(grid, np.sum([grid_error(grid, cb(grid)) for cb in bpolys]))\n",
    "new_grid = grid[pruning_mask]\n",
    "plot_interpol(bpolys, new_grid)\n",
    "grid.size, new_grid.size"
   ]
  },
  {
   "cell_type": "markdown",
   "metadata": {},
   "source": [
    "## Rebalancing grid"
   ]
  },
  {
   "cell_type": "code",
   "execution_count": null,
   "metadata": {},
   "outputs": [],
   "source": [
    "%load_ext autoreload"
   ]
  },
  {
   "cell_type": "code",
   "execution_count": null,
   "metadata": {},
   "outputs": [],
   "source": [
    "%autoreload 2"
   ]
  },
  {
   "cell_type": "code",
   "execution_count": null,
   "metadata": {},
   "outputs": [],
   "source": [
    "from finitediff.grid import rebalanced_grid"
   ]
  },
  {
   "cell_type": "code",
   "execution_count": null,
   "metadata": {},
   "outputs": [],
   "source": [
    "def mk_grid(grid, cbs, niter=1, pruning_factor=0.0, **kwargs):\n",
    "    def _calc_err(grd):\n",
    "        err = np.zeros_like(grid)\n",
    "        for cb in cbs:\n",
    "            err += np.abs(grid_error(grid, cb(grid)))\n",
    "        return err\n",
    "    grids, errs = [grid], []\n",
    "    for _ in range(niter):\n",
    "        errs.append(_calc_err(grid))\n",
    "        grid = rebalanced_grid(grid, errs[-1], **kwargs)\n",
    "        grids.append(grid)\n",
    "    errs.append(_calc_err(grid))\n",
    "    return grids, errs"
   ]
  },
  {
   "cell_type": "code",
   "execution_count": null,
   "metadata": {},
   "outputs": [],
   "source": [
    "ngrids = 8\n",
    "grids, errs = mk_grid(np.linspace(0, 15, 160), bpolys, niter=ngrids, base=0.2, smooth_fact=10.0)\n",
    "fig, axes = plt.subplots(ngrids, 1, figsize=(16, 16))\n",
    "for grid, ax in zip(grids, axes):\n",
    "    plot_interpol(bpolys, grid, ax=ax)"
   ]
  },
  {
   "cell_type": "code",
   "execution_count": null,
   "metadata": {},
   "outputs": [],
   "source": [
    "from finitediff.grid import combine_grids\n",
    "combined_a = combine_grids(grids[:2], atol=1e-12)\n",
    "combined_b = combine_grids(grids[2:4], atol=1e-12)\n",
    "combined_c = combine_grids(grids[4:6], atol=1e-12)\n",
    "combined_d = combine_grids(grids[6:8], atol=1e-12)"
   ]
  },
  {
   "cell_type": "code",
   "execution_count": null,
   "metadata": {},
   "outputs": [],
   "source": [
    "fig, axes = plt.subplots(5, 1, figsize=(16, 16))\n",
    "plot_interpol(bpolys, combined_a, ax=axes[0])\n",
    "plot_interpol(bpolys, combined_b, ax=axes[1])\n",
    "plot_interpol(bpolys, combined_c, ax=axes[2])\n",
    "plot_interpol(bpolys, combined_d, ax=axes[3])\n",
    "d_mask = grid_pruning_mask(combined_d, np.sum([grid_error(combined_d, cb(combined_d)) for cb in bpolys]))\n",
    "plot_interpol(bpolys, combined_d[d_mask], ax=axes[4])"
   ]
  },
  {
   "cell_type": "code",
   "execution_count": null,
   "metadata": {},
   "outputs": [],
   "source": [
    "def combine_and_prune(grids, errs, cbs):\n",
    "    supergrid = combine_grids([grid[grid_pruning_mask(grid, err)] for grid, err in zip(grids, errs)], atol=1e-12)\n",
    "    assert np.all(np.diff(supergrid) > 0)\n",
    "    err = np.zeros_like(supergrid)\n",
    "    for cb in cbs:\n",
    "        err += np.abs(grid_error(supergrid, cb(supergrid)))\n",
    "    ma = grid_pruning_mask(supergrid, err, supergrid.size - grids[0].size, grids[0].size//2)\n",
    "    return supergrid[ma]"
   ]
  },
  {
   "cell_type": "code",
   "execution_count": null,
   "metadata": {},
   "outputs": [],
   "source": [
    "plot_interpol(bpolys, combine_and_prune(grids[:4], errs[:4], bpolys))"
   ]
  },
  {
   "cell_type": "code",
   "execution_count": null,
   "metadata": {},
   "outputs": [],
   "source": [
    "from itertools import chain\n",
    "def cookbook_grid(cbs, n=160):\n",
    "    ngrids = 4\n",
    "    base_grids, base_errs = mk_grid(np.linspace(0, 15, n//4), cbs, niter=ngrids, base=0.2, smooth_fact=10.0)\n",
    "    supergrid = combine_and_prune(base_grids, base_errs, cbs)\n",
    "    for cb in chain(cbs, reversed(cbs)):\n",
    "        supergrid, _errs = refine_grid(supergrid, cb, grid_additions=[n//4])\n",
    "    prune_mask = grid_pruning_mask(supergrid, np.sum([grid_error(supergrid, cb(supergrid)) for cb in cbs]))\n",
    "    return supergrid[prune_mask]"
   ]
  },
  {
   "cell_type": "code",
   "execution_count": null,
   "metadata": {},
   "outputs": [],
   "source": [
    "plot_interpol(bpolys, cookbook_grid(bpolys))"
   ]
  },
  {
   "cell_type": "code",
   "execution_count": null,
   "metadata": {},
   "outputs": [],
   "source": []
  }
 ],
 "metadata": {
  "kernelspec": {
   "display_name": "Python 3",
   "language": "python",
   "name": "python3"
  },
  "language_info": {
   "codemirror_mode": {
    "name": "ipython",
    "version": 3
   },
   "file_extension": ".py",
   "mimetype": "text/x-python",
   "name": "python",
   "nbconvert_exporter": "python",
   "pygments_lexer": "ipython3",
   "version": "3.8.6"
  }
 },
 "nbformat": 4,
 "nbformat_minor": 1
}
